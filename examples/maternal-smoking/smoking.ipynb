{
  "cells": [
    {
      "cell_type": "markdown",
      "metadata": {
        "colab_type": "text",
        "id": "view-in-github"
      },
      "source": [
        "<a href=\"https://colab.research.google.com/github/ahmedmoustafa/AUC-Fundamentals-of-Data-Science-II-Spring-2023/blob/main/examples/maternal-smoking/smoking.ipynb\" target=\"_parent\"><img src=\"https://colab.research.google.com/assets/colab-badge.svg\" alt=\"Open In Colab\"/></a>"
      ]
    },
    {
      "cell_type": "markdown",
      "metadata": {
        "id": "aBg1rOzmEkmp"
      },
      "source": [
        "# Maternal Smoking"
      ]
    },
    {
      "cell_type": "code",
      "execution_count": 1,
      "metadata": {
        "id": "xuhWjeg7EeWk"
      },
      "outputs": [],
      "source": [
        "import pandas as pd\n",
        "import matplotlib.pyplot as plt\n",
        "import seaborn as sns"
      ]
    },
    {
      "cell_type": "code",
      "execution_count": 2,
      "metadata": {
        "colab": {
          "base_uri": "https://localhost:8080/"
        },
        "id": "lwP2QUWcE-qG",
        "outputId": "c5d64511-e103-4ce0-d629-9dcd8d9064fa"
      },
      "outputs": [
        {
          "data": {
            "text/plain": [
              "(610, 20)"
            ]
          },
          "execution_count": 2,
          "metadata": {},
          "output_type": "execute_result"
        }
      ],
      "source": [
        "df = pd.read_table(\"https://raw.githubusercontent.com/ahmedmoustafa/AUC-Fundamentals-of-Data-Science-II-Spring-2023/main/examples/maternal-smoking/smoking.tsv\")\n",
        "df.shape"
      ]
    },
    {
      "cell_type": "code",
      "execution_count": 3,
      "metadata": {
        "colab": {
          "base_uri": "https://localhost:8080/",
          "height": 206
        },
        "id": "ZkziwPBjFGpM",
        "outputId": "0242a042-585f-4413-d637-b9ce8947c5e6"
      },
      "outputs": [
        {
          "data": {
            "text/html": [
              "<div>\n",
              "<style scoped>\n",
              "    .dataframe tbody tr th:only-of-type {\n",
              "        vertical-align: middle;\n",
              "    }\n",
              "\n",
              "    .dataframe tbody tr th {\n",
              "        vertical-align: top;\n",
              "    }\n",
              "\n",
              "    .dataframe thead th {\n",
              "        text-align: right;\n",
              "    }\n",
              "</style>\n",
              "<table border=\"1\" class=\"dataframe\">\n",
              "  <thead>\n",
              "    <tr style=\"text-align: right;\">\n",
              "      <th></th>\n",
              "      <th>id</th>\n",
              "      <th>date</th>\n",
              "      <th>gestation</th>\n",
              "      <th>weight</th>\n",
              "      <th>parity</th>\n",
              "      <th>mom.race</th>\n",
              "      <th>mom.age</th>\n",
              "      <th>mom.edu</th>\n",
              "      <th>mom.height</th>\n",
              "      <th>mom.weight</th>\n",
              "      <th>dad.race</th>\n",
              "      <th>dad.age</th>\n",
              "      <th>dad.edu</th>\n",
              "      <th>dad.height</th>\n",
              "      <th>dad.weight</th>\n",
              "      <th>marital</th>\n",
              "      <th>income</th>\n",
              "      <th>smoke</th>\n",
              "      <th>quit.time</th>\n",
              "      <th>cigs</th>\n",
              "    </tr>\n",
              "  </thead>\n",
              "  <tbody>\n",
              "    <tr>\n",
              "      <th>0</th>\n",
              "      <td>15</td>\n",
              "      <td>1411</td>\n",
              "      <td>284</td>\n",
              "      <td>120</td>\n",
              "      <td>1</td>\n",
              "      <td>asian</td>\n",
              "      <td>27</td>\n",
              "      <td>5</td>\n",
              "      <td>62</td>\n",
              "      <td>100</td>\n",
              "      <td>asian</td>\n",
              "      <td>31</td>\n",
              "      <td>5</td>\n",
              "      <td>65</td>\n",
              "      <td>110</td>\n",
              "      <td>1</td>\n",
              "      <td>1</td>\n",
              "      <td>never</td>\n",
              "      <td>0</td>\n",
              "      <td>0</td>\n",
              "    </tr>\n",
              "    <tr>\n",
              "      <th>1</th>\n",
              "      <td>20</td>\n",
              "      <td>1499</td>\n",
              "      <td>282</td>\n",
              "      <td>113</td>\n",
              "      <td>2</td>\n",
              "      <td>white</td>\n",
              "      <td>33</td>\n",
              "      <td>5</td>\n",
              "      <td>64</td>\n",
              "      <td>135</td>\n",
              "      <td>white</td>\n",
              "      <td>38</td>\n",
              "      <td>5</td>\n",
              "      <td>70</td>\n",
              "      <td>148</td>\n",
              "      <td>1</td>\n",
              "      <td>4</td>\n",
              "      <td>never</td>\n",
              "      <td>0</td>\n",
              "      <td>0</td>\n",
              "    </tr>\n",
              "    <tr>\n",
              "      <th>2</th>\n",
              "      <td>100</td>\n",
              "      <td>1673</td>\n",
              "      <td>286</td>\n",
              "      <td>136</td>\n",
              "      <td>4</td>\n",
              "      <td>white</td>\n",
              "      <td>25</td>\n",
              "      <td>2</td>\n",
              "      <td>62</td>\n",
              "      <td>93</td>\n",
              "      <td>white</td>\n",
              "      <td>28</td>\n",
              "      <td>2</td>\n",
              "      <td>64</td>\n",
              "      <td>130</td>\n",
              "      <td>1</td>\n",
              "      <td>4</td>\n",
              "      <td>until_pregnancy</td>\n",
              "      <td>2</td>\n",
              "      <td>2</td>\n",
              "    </tr>\n",
              "    <tr>\n",
              "      <th>3</th>\n",
              "      <td>129</td>\n",
              "      <td>1562</td>\n",
              "      <td>245</td>\n",
              "      <td>132</td>\n",
              "      <td>2</td>\n",
              "      <td>black</td>\n",
              "      <td>23</td>\n",
              "      <td>1</td>\n",
              "      <td>65</td>\n",
              "      <td>140</td>\n",
              "      <td>black</td>\n",
              "      <td>23</td>\n",
              "      <td>4</td>\n",
              "      <td>71</td>\n",
              "      <td>192</td>\n",
              "      <td>1</td>\n",
              "      <td>2</td>\n",
              "      <td>never</td>\n",
              "      <td>0</td>\n",
              "      <td>0</td>\n",
              "    </tr>\n",
              "    <tr>\n",
              "      <th>4</th>\n",
              "      <td>142</td>\n",
              "      <td>1408</td>\n",
              "      <td>289</td>\n",
              "      <td>120</td>\n",
              "      <td>3</td>\n",
              "      <td>white</td>\n",
              "      <td>25</td>\n",
              "      <td>4</td>\n",
              "      <td>62</td>\n",
              "      <td>125</td>\n",
              "      <td>white</td>\n",
              "      <td>26</td>\n",
              "      <td>1</td>\n",
              "      <td>70</td>\n",
              "      <td>180</td>\n",
              "      <td>0</td>\n",
              "      <td>2</td>\n",
              "      <td>never</td>\n",
              "      <td>0</td>\n",
              "      <td>0</td>\n",
              "    </tr>\n",
              "  </tbody>\n",
              "</table>\n",
              "</div>"
            ],
            "text/plain": [
              "    id  date  gestation  weight  parity mom.race  mom.age  mom.edu  \\\n",
              "0   15  1411        284     120       1    asian       27        5   \n",
              "1   20  1499        282     113       2    white       33        5   \n",
              "2  100  1673        286     136       4    white       25        2   \n",
              "3  129  1562        245     132       2    black       23        1   \n",
              "4  142  1408        289     120       3    white       25        4   \n",
              "\n",
              "   mom.height  mom.weight dad.race  dad.age  dad.edu  dad.height  dad.weight  \\\n",
              "0          62         100    asian       31        5          65         110   \n",
              "1          64         135    white       38        5          70         148   \n",
              "2          62          93    white       28        2          64         130   \n",
              "3          65         140    black       23        4          71         192   \n",
              "4          62         125    white       26        1          70         180   \n",
              "\n",
              "   marital  income            smoke  quit.time  cigs  \n",
              "0        1       1            never          0     0  \n",
              "1        1       4            never          0     0  \n",
              "2        1       4  until_pregnancy          2     2  \n",
              "3        1       2            never          0     0  \n",
              "4        0       2            never          0     0  "
            ]
          },
          "execution_count": 3,
          "metadata": {},
          "output_type": "execute_result"
        }
      ],
      "source": [
        "df.head()"
      ]
    },
    {
      "cell_type": "markdown",
      "metadata": {
        "id": "YEvzA3RdX9BD"
      },
      "source": [
        "## Q1. Does the mom's smoking pattern affect the newborn birth weight?"
      ]
    },
    {
      "cell_type": "code",
      "execution_count": null,
      "metadata": {
        "id": "gezYMdWciSuQ"
      },
      "outputs": [],
      "source": []
    },
    {
      "cell_type": "markdown",
      "metadata": {
        "id": "ES5mZnyhYQ-5"
      },
      "source": [
        "## Q2. Does the mom’s race affect the newborn birth weight?\n"
      ]
    },
    {
      "cell_type": "code",
      "execution_count": null,
      "metadata": {
        "id": "6fQAD4OkYJr9"
      },
      "outputs": [],
      "source": []
    },
    {
      "cell_type": "markdown",
      "metadata": {
        "id": "3GVJ6vVTYai-"
      },
      "source": [
        "## Q3. Is there a correlation between the mom’s weight and the baby’s weight?\n"
      ]
    },
    {
      "cell_type": "code",
      "execution_count": null,
      "metadata": {
        "id": "3-K9ReE0iuGZ"
      },
      "outputs": [],
      "source": []
    },
    {
      "cell_type": "markdown",
      "metadata": {
        "id": "0tlqNIxRiuj1"
      },
      "source": [
        "## Q4. Is there a correlation between the dad’s weight and the baby’s weight?"
      ]
    },
    {
      "cell_type": "code",
      "execution_count": null,
      "metadata": {
        "id": "BTMBRW1fizGo"
      },
      "outputs": [],
      "source": []
    },
    {
      "cell_type": "markdown",
      "metadata": {
        "id": "RsAASFlFizsw"
      },
      "source": [
        "## Q5. From Q3 and Q4, which is a stronger correlation?"
      ]
    },
    {
      "cell_type": "code",
      "execution_count": null,
      "metadata": {
        "id": "nPoeKWjki008"
      },
      "outputs": [],
      "source": []
    },
    {
      "cell_type": "markdown",
      "metadata": {
        "id": "c1avgW5Xi1MK"
      },
      "source": [
        "## Q6. Is there a correlation between the mom’s weight and the dad’s weight?"
      ]
    },
    {
      "cell_type": "code",
      "execution_count": null,
      "metadata": {
        "id": "8E9_p44kjA1O"
      },
      "outputs": [],
      "source": []
    },
    {
      "cell_type": "markdown",
      "metadata": {
        "id": "E_lPDmPzjBQ1"
      },
      "source": [
        "## Q7. On average, does the mom’s weight change across the races?"
      ]
    },
    {
      "cell_type": "code",
      "execution_count": null,
      "metadata": {
        "id": "AbM92i3XjFuJ"
      },
      "outputs": [],
      "source": []
    },
    {
      "cell_type": "markdown",
      "metadata": {
        "id": "HC-CTen2ys_V"
      },
      "source": [
        "## Q8. Does mom’s smoking pattern change with the mom’s education?"
      ]
    },
    {
      "cell_type": "code",
      "execution_count": null,
      "metadata": {
        "id": "bLA4fyUx06Bm"
      },
      "outputs": [],
      "source": []
    },
    {
      "cell_type": "markdown",
      "metadata": {
        "id": "F0b6FIXnjHS4"
      },
      "source": [
        "## Q9. Does mom’s smoking pattern change with the family income?"
      ]
    },
    {
      "cell_type": "code",
      "execution_count": null,
      "metadata": {
        "id": "8hh4Cfy4jKy4"
      },
      "outputs": [],
      "source": []
    },
    {
      "cell_type": "markdown",
      "metadata": {
        "id": "O6T5rtvejLUx"
      },
      "source": [
        "## Q10. Is there a relationship between the mom’s race and the dad’s race?"
      ]
    },
    {
      "cell_type": "code",
      "execution_count": null,
      "metadata": {},
      "outputs": [],
      "source": []
    }
  ],
  "metadata": {
    "colab": {
      "authorship_tag": "ABX9TyO++W4FW0DepwOBufapN57i",
      "include_colab_link": true,
      "provenance": []
    },
    "kernelspec": {
      "display_name": "Python 3",
      "name": "python3"
    },
    "language_info": {
      "codemirror_mode": {
        "name": "ipython",
        "version": 3
      },
      "file_extension": ".py",
      "mimetype": "text/x-python",
      "name": "python",
      "nbconvert_exporter": "python",
      "pygments_lexer": "ipython3",
      "version": "3.9.7"
    }
  },
  "nbformat": 4,
  "nbformat_minor": 0
}
