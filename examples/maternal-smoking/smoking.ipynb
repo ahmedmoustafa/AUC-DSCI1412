{
  "nbformat": 4,
  "nbformat_minor": 0,
  "metadata": {
    "colab": {
      "provenance": [],
      "authorship_tag": "ABX9TyO++W4FW0DepwOBufapN57i",
      "include_colab_link": true
    },
    "kernelspec": {
      "name": "python3",
      "display_name": "Python 3"
    },
    "language_info": {
      "name": "python"
    }
  },
  "cells": [
    {
      "cell_type": "markdown",
      "metadata": {
        "id": "view-in-github",
        "colab_type": "text"
      },
      "source": [
        "<a href=\"https://colab.research.google.com/github/ahmedmoustafa/AUC-Fundamentals-of-Data-Science-II-Spring-2023/blob/main/examples/maternal-smoking/smoking.ipynb\" target=\"_parent\"><img src=\"https://colab.research.google.com/assets/colab-badge.svg\" alt=\"Open In Colab\"/></a>"
      ]
    },
    {
      "cell_type": "markdown",
      "source": [
        "# Maternal Smoking"
      ],
      "metadata": {
        "id": "aBg1rOzmEkmp"
      }
    },
    {
      "cell_type": "code",
      "source": [
        "import pandas as pd\n",
        "import matplotlib.pyplot as plt\n",
        "import seaborn as sns"
      ],
      "metadata": {
        "id": "xuhWjeg7EeWk"
      },
      "execution_count": 1,
      "outputs": []
    },
    {
      "cell_type": "code",
      "source": [
        "df = pd.read_table(\"https://raw.githubusercontent.com/ahmedmoustafa/AUC-Fundamentals-of-Data-Science-II-Spring-2023/main/examples/maternal-smoking/smoking.tsv\")\n",
        "df.shape"
      ],
      "metadata": {
        "colab": {
          "base_uri": "https://localhost:8080/"
        },
        "id": "lwP2QUWcE-qG",
        "outputId": "c5d64511-e103-4ce0-d629-9dcd8d9064fa"
      },
      "execution_count": 2,
      "outputs": [
        {
          "output_type": "execute_result",
          "data": {
            "text/plain": [
              "(610, 20)"
            ]
          },
          "metadata": {},
          "execution_count": 2
        }
      ]
    },
    {
      "cell_type": "code",
      "source": [
        "df.head()"
      ],
      "metadata": {
        "colab": {
          "base_uri": "https://localhost:8080/",
          "height": 206
        },
        "id": "ZkziwPBjFGpM",
        "outputId": "0242a042-585f-4413-d637-b9ce8947c5e6"
      },
      "execution_count": 3,
      "outputs": [
        {
          "output_type": "execute_result",
          "data": {
            "text/plain": [
              "    id  date  gestation  weight  parity mom.race  mom.age  mom.edu  \\\n",
              "0   15  1411        284     120       1    asian       27        5   \n",
              "1   20  1499        282     113       2    white       33        5   \n",
              "2  100  1673        286     136       4    white       25        2   \n",
              "3  129  1562        245     132       2    black       23        1   \n",
              "4  142  1408        289     120       3    white       25        4   \n",
              "\n",
              "   mom.height  mom.weight dad.race  dad.age  dad.edu  dad.height  dad.weight  \\\n",
              "0          62         100    asian       31        5          65         110   \n",
              "1          64         135    white       38        5          70         148   \n",
              "2          62          93    white       28        2          64         130   \n",
              "3          65         140    black       23        4          71         192   \n",
              "4          62         125    white       26        1          70         180   \n",
              "\n",
              "   marital  income            smoke  quit.time  cigs  \n",
              "0        1       1            never          0     0  \n",
              "1        1       4            never          0     0  \n",
              "2        1       4  until_pregnancy          2     2  \n",
              "3        1       2            never          0     0  \n",
              "4        0       2            never          0     0  "
            ],
            "text/html": [
              "\n",
              "  <div id=\"df-a22d6291-123b-41bc-a822-511202cc6dec\">\n",
              "    <div class=\"colab-df-container\">\n",
              "      <div>\n",
              "<style scoped>\n",
              "    .dataframe tbody tr th:only-of-type {\n",
              "        vertical-align: middle;\n",
              "    }\n",
              "\n",
              "    .dataframe tbody tr th {\n",
              "        vertical-align: top;\n",
              "    }\n",
              "\n",
              "    .dataframe thead th {\n",
              "        text-align: right;\n",
              "    }\n",
              "</style>\n",
              "<table border=\"1\" class=\"dataframe\">\n",
              "  <thead>\n",
              "    <tr style=\"text-align: right;\">\n",
              "      <th></th>\n",
              "      <th>id</th>\n",
              "      <th>date</th>\n",
              "      <th>gestation</th>\n",
              "      <th>weight</th>\n",
              "      <th>parity</th>\n",
              "      <th>mom.race</th>\n",
              "      <th>mom.age</th>\n",
              "      <th>mom.edu</th>\n",
              "      <th>mom.height</th>\n",
              "      <th>mom.weight</th>\n",
              "      <th>dad.race</th>\n",
              "      <th>dad.age</th>\n",
              "      <th>dad.edu</th>\n",
              "      <th>dad.height</th>\n",
              "      <th>dad.weight</th>\n",
              "      <th>marital</th>\n",
              "      <th>income</th>\n",
              "      <th>smoke</th>\n",
              "      <th>quit.time</th>\n",
              "      <th>cigs</th>\n",
              "    </tr>\n",
              "  </thead>\n",
              "  <tbody>\n",
              "    <tr>\n",
              "      <th>0</th>\n",
              "      <td>15</td>\n",
              "      <td>1411</td>\n",
              "      <td>284</td>\n",
              "      <td>120</td>\n",
              "      <td>1</td>\n",
              "      <td>asian</td>\n",
              "      <td>27</td>\n",
              "      <td>5</td>\n",
              "      <td>62</td>\n",
              "      <td>100</td>\n",
              "      <td>asian</td>\n",
              "      <td>31</td>\n",
              "      <td>5</td>\n",
              "      <td>65</td>\n",
              "      <td>110</td>\n",
              "      <td>1</td>\n",
              "      <td>1</td>\n",
              "      <td>never</td>\n",
              "      <td>0</td>\n",
              "      <td>0</td>\n",
              "    </tr>\n",
              "    <tr>\n",
              "      <th>1</th>\n",
              "      <td>20</td>\n",
              "      <td>1499</td>\n",
              "      <td>282</td>\n",
              "      <td>113</td>\n",
              "      <td>2</td>\n",
              "      <td>white</td>\n",
              "      <td>33</td>\n",
              "      <td>5</td>\n",
              "      <td>64</td>\n",
              "      <td>135</td>\n",
              "      <td>white</td>\n",
              "      <td>38</td>\n",
              "      <td>5</td>\n",
              "      <td>70</td>\n",
              "      <td>148</td>\n",
              "      <td>1</td>\n",
              "      <td>4</td>\n",
              "      <td>never</td>\n",
              "      <td>0</td>\n",
              "      <td>0</td>\n",
              "    </tr>\n",
              "    <tr>\n",
              "      <th>2</th>\n",
              "      <td>100</td>\n",
              "      <td>1673</td>\n",
              "      <td>286</td>\n",
              "      <td>136</td>\n",
              "      <td>4</td>\n",
              "      <td>white</td>\n",
              "      <td>25</td>\n",
              "      <td>2</td>\n",
              "      <td>62</td>\n",
              "      <td>93</td>\n",
              "      <td>white</td>\n",
              "      <td>28</td>\n",
              "      <td>2</td>\n",
              "      <td>64</td>\n",
              "      <td>130</td>\n",
              "      <td>1</td>\n",
              "      <td>4</td>\n",
              "      <td>until_pregnancy</td>\n",
              "      <td>2</td>\n",
              "      <td>2</td>\n",
              "    </tr>\n",
              "    <tr>\n",
              "      <th>3</th>\n",
              "      <td>129</td>\n",
              "      <td>1562</td>\n",
              "      <td>245</td>\n",
              "      <td>132</td>\n",
              "      <td>2</td>\n",
              "      <td>black</td>\n",
              "      <td>23</td>\n",
              "      <td>1</td>\n",
              "      <td>65</td>\n",
              "      <td>140</td>\n",
              "      <td>black</td>\n",
              "      <td>23</td>\n",
              "      <td>4</td>\n",
              "      <td>71</td>\n",
              "      <td>192</td>\n",
              "      <td>1</td>\n",
              "      <td>2</td>\n",
              "      <td>never</td>\n",
              "      <td>0</td>\n",
              "      <td>0</td>\n",
              "    </tr>\n",
              "    <tr>\n",
              "      <th>4</th>\n",
              "      <td>142</td>\n",
              "      <td>1408</td>\n",
              "      <td>289</td>\n",
              "      <td>120</td>\n",
              "      <td>3</td>\n",
              "      <td>white</td>\n",
              "      <td>25</td>\n",
              "      <td>4</td>\n",
              "      <td>62</td>\n",
              "      <td>125</td>\n",
              "      <td>white</td>\n",
              "      <td>26</td>\n",
              "      <td>1</td>\n",
              "      <td>70</td>\n",
              "      <td>180</td>\n",
              "      <td>0</td>\n",
              "      <td>2</td>\n",
              "      <td>never</td>\n",
              "      <td>0</td>\n",
              "      <td>0</td>\n",
              "    </tr>\n",
              "  </tbody>\n",
              "</table>\n",
              "</div>\n",
              "      <button class=\"colab-df-convert\" onclick=\"convertToInteractive('df-a22d6291-123b-41bc-a822-511202cc6dec')\"\n",
              "              title=\"Convert this dataframe to an interactive table.\"\n",
              "              style=\"display:none;\">\n",
              "        \n",
              "  <svg xmlns=\"http://www.w3.org/2000/svg\" height=\"24px\"viewBox=\"0 0 24 24\"\n",
              "       width=\"24px\">\n",
              "    <path d=\"M0 0h24v24H0V0z\" fill=\"none\"/>\n",
              "    <path d=\"M18.56 5.44l.94 2.06.94-2.06 2.06-.94-2.06-.94-.94-2.06-.94 2.06-2.06.94zm-11 1L8.5 8.5l.94-2.06 2.06-.94-2.06-.94L8.5 2.5l-.94 2.06-2.06.94zm10 10l.94 2.06.94-2.06 2.06-.94-2.06-.94-.94-2.06-.94 2.06-2.06.94z\"/><path d=\"M17.41 7.96l-1.37-1.37c-.4-.4-.92-.59-1.43-.59-.52 0-1.04.2-1.43.59L10.3 9.45l-7.72 7.72c-.78.78-.78 2.05 0 2.83L4 21.41c.39.39.9.59 1.41.59.51 0 1.02-.2 1.41-.59l7.78-7.78 2.81-2.81c.8-.78.8-2.07 0-2.86zM5.41 20L4 18.59l7.72-7.72 1.47 1.35L5.41 20z\"/>\n",
              "  </svg>\n",
              "      </button>\n",
              "      \n",
              "  <style>\n",
              "    .colab-df-container {\n",
              "      display:flex;\n",
              "      flex-wrap:wrap;\n",
              "      gap: 12px;\n",
              "    }\n",
              "\n",
              "    .colab-df-convert {\n",
              "      background-color: #E8F0FE;\n",
              "      border: none;\n",
              "      border-radius: 50%;\n",
              "      cursor: pointer;\n",
              "      display: none;\n",
              "      fill: #1967D2;\n",
              "      height: 32px;\n",
              "      padding: 0 0 0 0;\n",
              "      width: 32px;\n",
              "    }\n",
              "\n",
              "    .colab-df-convert:hover {\n",
              "      background-color: #E2EBFA;\n",
              "      box-shadow: 0px 1px 2px rgba(60, 64, 67, 0.3), 0px 1px 3px 1px rgba(60, 64, 67, 0.15);\n",
              "      fill: #174EA6;\n",
              "    }\n",
              "\n",
              "    [theme=dark] .colab-df-convert {\n",
              "      background-color: #3B4455;\n",
              "      fill: #D2E3FC;\n",
              "    }\n",
              "\n",
              "    [theme=dark] .colab-df-convert:hover {\n",
              "      background-color: #434B5C;\n",
              "      box-shadow: 0px 1px 3px 1px rgba(0, 0, 0, 0.15);\n",
              "      filter: drop-shadow(0px 1px 2px rgba(0, 0, 0, 0.3));\n",
              "      fill: #FFFFFF;\n",
              "    }\n",
              "  </style>\n",
              "\n",
              "      <script>\n",
              "        const buttonEl =\n",
              "          document.querySelector('#df-a22d6291-123b-41bc-a822-511202cc6dec button.colab-df-convert');\n",
              "        buttonEl.style.display =\n",
              "          google.colab.kernel.accessAllowed ? 'block' : 'none';\n",
              "\n",
              "        async function convertToInteractive(key) {\n",
              "          const element = document.querySelector('#df-a22d6291-123b-41bc-a822-511202cc6dec');\n",
              "          const dataTable =\n",
              "            await google.colab.kernel.invokeFunction('convertToInteractive',\n",
              "                                                     [key], {});\n",
              "          if (!dataTable) return;\n",
              "\n",
              "          const docLinkHtml = 'Like what you see? Visit the ' +\n",
              "            '<a target=\"_blank\" href=https://colab.research.google.com/notebooks/data_table.ipynb>data table notebook</a>'\n",
              "            + ' to learn more about interactive tables.';\n",
              "          element.innerHTML = '';\n",
              "          dataTable['output_type'] = 'display_data';\n",
              "          await google.colab.output.renderOutput(dataTable, element);\n",
              "          const docLink = document.createElement('div');\n",
              "          docLink.innerHTML = docLinkHtml;\n",
              "          element.appendChild(docLink);\n",
              "        }\n",
              "      </script>\n",
              "    </div>\n",
              "  </div>\n",
              "  "
            ]
          },
          "metadata": {},
          "execution_count": 3
        }
      ]
    },
    {
      "cell_type": "markdown",
      "source": [
        "## Q1. Does the mom's smoking pattern affect the newborn birth weight?"
      ],
      "metadata": {
        "id": "YEvzA3RdX9BD"
      }
    },
    {
      "cell_type": "code",
      "source": [],
      "metadata": {
        "id": "gezYMdWciSuQ"
      },
      "execution_count": 3,
      "outputs": []
    },
    {
      "cell_type": "markdown",
      "source": [
        "## Q2. Does the mom’s race affect the newborn birth weight?\n"
      ],
      "metadata": {
        "id": "ES5mZnyhYQ-5"
      }
    },
    {
      "cell_type": "code",
      "source": [],
      "metadata": {
        "id": "6fQAD4OkYJr9"
      },
      "execution_count": 3,
      "outputs": []
    },
    {
      "cell_type": "markdown",
      "source": [
        "## Q3. Is there a correlation between the mom’s weight and the baby’s weight?\n"
      ],
      "metadata": {
        "id": "3GVJ6vVTYai-"
      }
    },
    {
      "cell_type": "code",
      "source": [],
      "metadata": {
        "id": "3-K9ReE0iuGZ"
      },
      "execution_count": 3,
      "outputs": []
    },
    {
      "cell_type": "markdown",
      "source": [
        "## Q4. Is there a correlation between the dad’s weight and the baby’s weight?"
      ],
      "metadata": {
        "id": "0tlqNIxRiuj1"
      }
    },
    {
      "cell_type": "code",
      "source": [],
      "metadata": {
        "id": "BTMBRW1fizGo"
      },
      "execution_count": 3,
      "outputs": []
    },
    {
      "cell_type": "markdown",
      "source": [
        "## Q5. From Q3 and Q4, which is a stronger correlation?"
      ],
      "metadata": {
        "id": "RsAASFlFizsw"
      }
    },
    {
      "cell_type": "code",
      "source": [],
      "metadata": {
        "id": "nPoeKWjki008"
      },
      "execution_count": 3,
      "outputs": []
    },
    {
      "cell_type": "markdown",
      "source": [
        "## Q6. Is there a correlation between the mom’s weight and the dad’s weight?"
      ],
      "metadata": {
        "id": "c1avgW5Xi1MK"
      }
    },
    {
      "cell_type": "code",
      "source": [],
      "metadata": {
        "id": "8E9_p44kjA1O"
      },
      "execution_count": 3,
      "outputs": []
    },
    {
      "cell_type": "markdown",
      "source": [
        "## Q7. On average, does the mom’s weight change across the races?"
      ],
      "metadata": {
        "id": "E_lPDmPzjBQ1"
      }
    },
    {
      "cell_type": "code",
      "source": [],
      "metadata": {
        "id": "AbM92i3XjFuJ"
      },
      "execution_count": 3,
      "outputs": []
    },
    {
      "cell_type": "markdown",
      "source": [
        "## Q8. Does mom’s smoking pattern change with the mom’s education?"
      ],
      "metadata": {
        "id": "HC-CTen2ys_V"
      }
    },
    {
      "cell_type": "code",
      "source": [],
      "metadata": {
        "id": "bLA4fyUx06Bm"
      },
      "execution_count": 3,
      "outputs": []
    },
    {
      "cell_type": "markdown",
      "source": [
        "## Q9. Does mom’s smoking pattern change with the family income?"
      ],
      "metadata": {
        "id": "F0b6FIXnjHS4"
      }
    },
    {
      "cell_type": "code",
      "source": [],
      "metadata": {
        "id": "8hh4Cfy4jKy4"
      },
      "execution_count": 3,
      "outputs": []
    },
    {
      "cell_type": "markdown",
      "source": [
        "## Q10. Is there a relationship between the mom’s race and the dad’s race?"
      ],
      "metadata": {
        "id": "O6T5rtvejLUx"
      }
    },
    {
      "cell_type": "code",
      "source": [],
      "metadata": {
        "id": "yGmdNnY2jNbn"
      },
      "execution_count": 3,
      "outputs": []
    }
  ]
}