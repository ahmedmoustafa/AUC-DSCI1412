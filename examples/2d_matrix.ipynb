{
  "cells": [
    {
      "cell_type": "markdown",
      "metadata": {
        "colab_type": "text",
        "id": "view-in-github"
      },
      "source": [
        "<a href=\"https://colab.research.google.com/github/ahmedmoustafa/AUC-Fundamentals-of-Data-Science-II-Spring-2023/blob/main/examples/2d_matrix.ipynb\" target=\"_parent\"><img src=\"https://colab.research.google.com/assets/colab-badge.svg\" alt=\"Open In Colab\"/></a>"
      ]
    },
    {
      "cell_type": "markdown",
      "metadata": {
        "id": "IrxrMNUT3pqr"
      },
      "source": [
        "# 2D Matrix"
      ]
    },
    {
      "cell_type": "markdown",
      "metadata": {
        "id": "91KNohfM2YaT"
      },
      "source": [
        "## Q1.\n",
        "\n",
        "Write the Python code to create the following 3 × 3 two-dimensional  matrix:\n",
        "\n",
        "\\begin{equation}\n",
        "\\begin{pmatrix}\n",
        "1 & 2 & 3 \\\\\n",
        "4 & 5 & 6 \\\\\n",
        "7 & 8 & 9 \\\\\n",
        "\\end{pmatrix}\n",
        "\\end{equation}\n",
        "\n",
        "**Hint:** The above matrix can be considered a list of lists."
      ]
    },
    {
      "cell_type": "markdown",
      "metadata": {
        "id": "xDqNxYmUD4aM"
      },
      "source": [
        "### Answer"
      ]
    },
    {
      "cell_type": "markdown",
      "metadata": {
        "id": "0i-6UAIv_hrm"
      },
      "source": [
        "#### Method 1"
      ]
    },
    {
      "cell_type": "code",
      "execution_count": 2,
      "metadata": {
        "colab": {
          "base_uri": "https://localhost:8080/"
        },
        "id": "NX-oLdV43dVP",
        "outputId": "fbe73bd4-ede4-4880-ba13-12d2c84f8b1e"
      },
      "outputs": [
        {
          "data": {
            "text/plain": [
              "[[1, 2, 3], [4, 5, 6], [7, 8, 9]]"
            ]
          },
          "execution_count": 2,
          "metadata": {},
          "output_type": "execute_result"
        }
      ],
      "source": [
        "m = [[1,2,3], [4,5,6], [7,8,9]]\n",
        "m"
      ]
    },
    {
      "attachments": {},
      "cell_type": "markdown",
      "metadata": {
        "id": "ixPYAMPG_kHk"
      },
      "source": [
        "#### Method 2\n",
        "\n",
        "Here we create the matrix using a two nested `for`-loops, where the outer loop is for the rows and the inner loops is for the columns."
      ]
    },
    {
      "cell_type": "code",
      "execution_count": 3,
      "metadata": {
        "colab": {
          "base_uri": "https://localhost:8080/"
        },
        "id": "TbGpgdbR_o_R",
        "outputId": "cb71b68f-d773-4fb4-a763-ab11931d98b0"
      },
      "outputs": [
        {
          "data": {
            "text/plain": [
              "[[1, 2, 3], [2, 3, 4], [3, 4, 5]]"
            ]
          },
          "execution_count": 3,
          "metadata": {},
          "output_type": "execute_result"
        }
      ],
      "source": [
        "m = [] # create an empty list (the rows)\n",
        "for i in range(3):\n",
        "  n = [] # create an empty list (a column)\n",
        "  for j in range(3):\n",
        "    n.append(i + j +1) # add the columns one by one\n",
        "  m.append(n) # after adding all columns for a row, add the row to the list rows\n",
        "m"
      ]
    },
    {
      "cell_type": "markdown",
      "metadata": {
        "id": "VNSlD-zI4OfQ"
      },
      "source": [
        "## Q2\n",
        "\n",
        "Write the code to retrieve the value of the element located in the first row, and second column and show the output"
      ]
    },
    {
      "cell_type": "markdown",
      "metadata": {
        "id": "K6j7yK9sEBFK"
      },
      "source": [
        "### Answer"
      ]
    },
    {
      "cell_type": "code",
      "execution_count": 4,
      "metadata": {
        "colab": {
          "base_uri": "https://localhost:8080/"
        },
        "id": "zdVecU2F51Qf",
        "outputId": "788332aa-a87e-4575-de7c-687b46126fab"
      },
      "outputs": [
        {
          "data": {
            "text/plain": [
              "2"
            ]
          },
          "execution_count": 4,
          "metadata": {},
          "output_type": "execute_result"
        }
      ],
      "source": [
        "m[0][1]"
      ]
    },
    {
      "attachments": {},
      "cell_type": "markdown",
      "metadata": {
        "id": "BCCBgmbF4dyP"
      },
      "source": [
        "## Q3.\n",
        "\n",
        "Write the code to display the entire matrix"
      ]
    },
    {
      "cell_type": "markdown",
      "metadata": {
        "id": "uno_vYYmEDei"
      },
      "source": [
        "### Answer"
      ]
    },
    {
      "cell_type": "markdown",
      "metadata": {
        "id": "aupkYchU40h8"
      },
      "source": [
        "#### Method 1\n",
        "\n",
        "Print the matrix as it is using a single `print` statement"
      ]
    },
    {
      "cell_type": "code",
      "execution_count": 5,
      "metadata": {
        "colab": {
          "base_uri": "https://localhost:8080/"
        },
        "id": "4YNxShfE6Oej",
        "outputId": "55273899-98d1-459c-e3c1-07351bcfad74"
      },
      "outputs": [
        {
          "name": "stdout",
          "output_type": "stream",
          "text": [
            "[[1, 2, 3], [2, 3, 4], [3, 4, 5]]\n"
          ]
        }
      ],
      "source": [
        "print(m)"
      ]
    },
    {
      "cell_type": "markdown",
      "metadata": {
        "id": "ATDjSZeU5E1t"
      },
      "source": [
        "#### Method 2\n",
        "\n",
        "Print the matrix, row by row using three `print` statments"
      ]
    },
    {
      "cell_type": "code",
      "execution_count": 6,
      "metadata": {
        "colab": {
          "base_uri": "https://localhost:8080/"
        },
        "id": "veyh2ie-6bbt",
        "outputId": "5fba5c7f-c271-405c-c5a1-ece2befddbec"
      },
      "outputs": [
        {
          "name": "stdout",
          "output_type": "stream",
          "text": [
            "[1, 2, 3] \n",
            " [2, 3, 4] \n",
            " [3, 4, 5]\n"
          ]
        }
      ],
      "source": [
        "print(m[0], \"\\n\", m[1], \"\\n\", m[2])"
      ]
    },
    {
      "cell_type": "markdown",
      "metadata": {
        "id": "jSxmyf935J90"
      },
      "source": [
        "#### Method 3\n",
        "\n",
        "Using two nested `for`-loops to print the matrix element by element. The outer `for`-loop (the loop with `i` below) goes over the rows while the inner `for`-loop (the loop with `j` below) goes the columns.\n",
        "\n",
        "In the [`print()`](https://www.geeksforgeeks.org/python-output-using-print-function/) function, instead of ending with the *default* `newline`, let's end it with a `tab` (i.e., `end = \"\\t\"`) to stay on the same line for the row."
      ]
    },
    {
      "cell_type": "code",
      "execution_count": 7,
      "metadata": {
        "colab": {
          "base_uri": "https://localhost:8080/"
        },
        "id": "lqTqkHmK6klL",
        "outputId": "69a923cf-1cc6-44eb-bbcb-aa2145045b51"
      },
      "outputs": [
        {
          "name": "stdout",
          "output_type": "stream",
          "text": [
            "1\t2\t3\t\n",
            "2\t3\t4\t\n",
            "3\t4\t5\t\n"
          ]
        }
      ],
      "source": [
        "for i in range(3):\n",
        "  for j in range(3):\n",
        "    print(m[i][j], end = \"\\t\") # use a tab to separate between columns\n",
        "  print(\"\") # add a newline between the rows"
      ]
    }
  ],
  "metadata": {
    "colab": {
      "authorship_tag": "ABX9TyNi3XXPH98KxtOodfx7ydab",
      "include_colab_link": true,
      "provenance": []
    },
    "kernelspec": {
      "display_name": "Python 3",
      "language": "python",
      "name": "python3"
    },
    "language_info": {
      "codemirror_mode": {
        "name": "ipython",
        "version": 3
      },
      "file_extension": ".py",
      "mimetype": "text/x-python",
      "name": "python",
      "nbconvert_exporter": "python",
      "pygments_lexer": "ipython3",
      "version": "3.9.7"
    },
    "vscode": {
      "interpreter": {
        "hash": "5c7b89af1651d0b8571dde13640ecdccf7d5a6204171d6ab33e7c296e100e08a"
      }
    }
  },
  "nbformat": 4,
  "nbformat_minor": 0
}
