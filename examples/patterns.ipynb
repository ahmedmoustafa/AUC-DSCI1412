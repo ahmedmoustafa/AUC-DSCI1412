{
  "nbformat": 4,
  "nbformat_minor": 0,
  "metadata": {
    "colab": {
      "provenance": [],
      "authorship_tag": "ABX9TyPMxscXDoVAWvoc7LQWih6b",
      "include_colab_link": true
    },
    "kernelspec": {
      "name": "python3",
      "display_name": "Python 3"
    },
    "language_info": {
      "name": "python"
    }
  },
  "cells": [
    {
      "cell_type": "markdown",
      "metadata": {
        "id": "view-in-github",
        "colab_type": "text"
      },
      "source": [
        "<a href=\"https://colab.research.google.com/github/ahmedmoustafa/AUC-Fundamentals-of-Data-Science-II-Spring-2023/blob/main/examples/patterns.ipynb\" target=\"_parent\"><img src=\"https://colab.research.google.com/assets/colab-badge.svg\" alt=\"Open In Colab\"/></a>"
      ]
    },
    {
      "cell_type": "markdown",
      "source": [
        "## Patterns"
      ],
      "metadata": {
        "id": "VLDHmibY_QND"
      }
    },
    {
      "cell_type": "markdown",
      "source": [
        "## Q1. Write Python program to print the following pattern:\n",
        "\n",
        "```\n",
        "xoxoxo\n",
        "oxoxo\n",
        "xoxo\n",
        "oxo\n",
        "xo\n",
        "o\n",
        "```"
      ],
      "metadata": {
        "id": "Dc_vjqg7_S3z"
      }
    },
    {
      "cell_type": "code",
      "execution_count": 1,
      "metadata": {
        "colab": {
          "base_uri": "https://localhost:8080/"
        },
        "id": "uDdq0-5U-5p5",
        "outputId": "07528bd9-7118-4b3d-9301-bceda18ce4cf"
      },
      "outputs": [
        {
          "output_type": "stream",
          "name": "stdout",
          "text": [
            "xoxoxo\n",
            "oxoxo\n",
            "xoxo\n",
            "oxo\n",
            "xo\n",
            "o\n",
            "\n"
          ]
        }
      ],
      "source": [
        "n = 7\n",
        "\n",
        "for i in range(n):\n",
        "  for j in range(n-i-1):\n",
        "    if (i + j) % 2 == 0:\n",
        "      print ('x', end = '')\n",
        "    else:\n",
        "      print ('o', end = '')\n",
        "  print ()"
      ]
    },
    {
      "cell_type": "markdown",
      "source": [
        "## Q2. Write Python program to print the following pattern:\n",
        "\n",
        "```\n",
        "x+++++\n",
        "-x++++\n",
        "--x+++\n",
        "---x++\n",
        "----x+\n",
        "-----x\n",
        "```"
      ],
      "metadata": {
        "id": "76Gm6KtCAMsC"
      }
    },
    {
      "cell_type": "code",
      "source": [
        "n = 7\n",
        "\n",
        "for i in range(n):\n",
        "  for j in range(n):\n",
        "    if i == j:\n",
        "      print ('x', end = '')\n",
        "    elif i < j:\n",
        "      print ('+', end = '')\n",
        "    else:\n",
        "      print ('-', end = '')\n",
        "  print ()"
      ],
      "metadata": {
        "colab": {
          "base_uri": "https://localhost:8080/"
        },
        "id": "zt5ktsC9_09f",
        "outputId": "a26bfd93-cce6-415f-a3d0-c3673cef7bc6"
      },
      "execution_count": 2,
      "outputs": [
        {
          "output_type": "stream",
          "name": "stdout",
          "text": [
            "x++++++\n",
            "-x+++++\n",
            "--x++++\n",
            "---x+++\n",
            "----x++\n",
            "-----x+\n",
            "------x\n"
          ]
        }
      ]
    },
    {
      "cell_type": "markdown",
      "source": [
        "## Q3. Write Python program to print the following pattern:\n",
        "\n",
        "```\n",
        "    *\n",
        "   ***\n",
        "  *****\n",
        " *******\n",
        "*********\n",
        " *******\n",
        "  *****\n",
        "   ***\n",
        "    *\n",
        "```"
      ],
      "metadata": {
        "id": "z2vFg8OZBXWM"
      }
    },
    {
      "cell_type": "code",
      "source": [
        "n = 5\n",
        "\n",
        "for i in range(n):\n",
        "  print (\" \" * (n-i-1) + \"*\" * (2*i+1))\n",
        "\n",
        "for i in range(n-2, -1, -1):\n",
        "  print (\" \" * (n-i-1) + \"*\" * (2*i+1))"
      ],
      "metadata": {
        "colab": {
          "base_uri": "https://localhost:8080/"
        },
        "id": "7SzP3Ye-BNHx",
        "outputId": "d223665a-a34c-4de6-921b-1c9646e3436d"
      },
      "execution_count": 3,
      "outputs": [
        {
          "output_type": "stream",
          "name": "stdout",
          "text": [
            "    *\n",
            "   ***\n",
            "  *****\n",
            " *******\n",
            "*********\n",
            " *******\n",
            "  *****\n",
            "   ***\n",
            "    *\n"
          ]
        }
      ]
    }
  ]
}